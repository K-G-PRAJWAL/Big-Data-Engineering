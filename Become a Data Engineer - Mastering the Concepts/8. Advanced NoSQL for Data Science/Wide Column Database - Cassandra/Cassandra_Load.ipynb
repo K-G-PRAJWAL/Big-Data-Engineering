{
 "cells": [
  {
   "source": [
    "# Create tables and insert rows"
   ],
   "cell_type": "markdown",
   "metadata": {}
  },
  {
   "cell_type": "code",
   "execution_count": null,
   "metadata": {
    "collapsed": true
   },
   "outputs": [],
   "source": [
    "from cassandra.cluster import Cluster"
   ]
  },
  {
   "cell_type": "code",
   "execution_count": null,
   "metadata": {
    "collapsed": true
   },
   "outputs": [],
   "source": [
    "cluster = Cluster(['localhost'])"
   ]
  },
  {
   "cell_type": "code",
   "execution_count": null,
   "metadata": {
    "collapsed": true
   },
   "outputs": [],
   "source": [
    "session = cluster.connect()"
   ]
  },
  {
   "cell_type": "code",
   "execution_count": null,
   "metadata": {
    "collapsed": false
   },
   "outputs": [],
   "source": [
    "session.execute(\"CREATE KEYSPACE stocks \\\n",
    "                   WITH replication = {'class':'SimpleStrategy', \\\n",
    "                                        'replication_factor':'1'}\")"
   ]
  },
  {
   "cell_type": "code",
   "execution_count": null,
   "metadata": {
    "collapsed": true
   },
   "outputs": [],
   "source": [
    "session.set_keyspace('stocks')"
   ]
  },
  {
   "cell_type": "code",
   "execution_count": null,
   "metadata": {
    "collapsed": false
   },
   "outputs": [],
   "source": [
    "session.execute(\"\"\"\n",
    "                  CREATE TABLE company (\n",
    "                      company_id text,\n",
    "                      name_latest text,\n",
    "                      name_previous text,\n",
    "                      PRIMARY KEY (company_id)\n",
    "                   )\n",
    "                \"\"\")"
   ]
  },
  {
   "cell_type": "code",
   "execution_count": null,
   "metadata": {
    "collapsed": false
   },
   "outputs": [],
   "source": [
    "session.execute(\"\"\"\n",
    "                  CREATE TABLE indicator_by_company (\n",
    "                      company_id text,\n",
    "                      indicator_id text,\n",
    "                      yr_2010 bigint,\n",
    "                      yr_2011 bigint,\n",
    "                      yr_2012 bigint,\n",
    "                      yr_2013 bigint,\n",
    "                      yr_2014 bigint,\n",
    "                      yr_2015 bigint,\n",
    "                      yr_2016 bigint,\n",
    "                      PRIMARY KEY (company_id, indicator_id)\n",
    "                   )\n",
    "                \"\"\")"
   ]
  },
  {
   "cell_type": "code",
   "execution_count": null,
   "metadata": {
    "collapsed": true
   },
   "outputs": [],
   "source": [
    "import json"
   ]
  },
  {
   "cell_type": "code",
   "execution_count": null,
   "metadata": {
    "collapsed": true
   },
   "outputs": [],
   "source": [
    "with open('companies.json') as f_in:\n",
    "    companies = json.load(f_in)"
   ]
  },
  {
   "cell_type": "code",
   "execution_count": null,
   "metadata": {
    "collapsed": false
   },
   "outputs": [],
   "source": [
    "type(companies)"
   ]
  },
  {
   "cell_type": "code",
   "execution_count": null,
   "metadata": {
    "collapsed": false
   },
   "outputs": [],
   "source": [
    "companies[0]"
   ]
  },
  {
   "cell_type": "code",
   "execution_count": null,
   "metadata": {
    "collapsed": false
   },
   "outputs": [],
   "source": [
    "type(companies[0])"
   ]
  },
  {
   "cell_type": "code",
   "execution_count": null,
   "metadata": {
    "collapsed": false
   },
   "outputs": [],
   "source": [
    "session.execute(\n",
    "   \"\"\"\n",
    "   INSERT INTO company (company_id, name_latest, name_previous)\n",
    "   VALUES (%s, %s, %s)\n",
    "   \"\"\",\n",
    "   (\"1000045\", \"Nicholas Financial Inc\", \"\"))"
   ]
  },
  {
   "cell_type": "code",
   "execution_count": null,
   "metadata": {
    "collapsed": false
   },
   "outputs": [],
   "source": [
    "result_set = session.execute(\"SELECT * FROM company\")"
   ]
  },
  {
   "cell_type": "code",
   "execution_count": null,
   "metadata": {
    "collapsed": false
   },
   "outputs": [],
   "source": [
    "result_set.current_rows"
   ]
  },
  {
   "cell_type": "code",
   "execution_count": null,
   "metadata": {
    "collapsed": true
   },
   "outputs": [],
   "source": [
    "for company in companies:\n",
    "    try:\n",
    "        session.execute(\n",
    "                           \"\"\"\n",
    "                           INSERT INTO company (company_id, name_latest, name_previous)\n",
    "                           VALUES (%s, %s, %s)\n",
    "                           \"\"\",\n",
    "                           (company['company_id'],company['name_latest'], company['names_previous']))\n",
    "    except:\n",
    "        pass"
   ]
  },
  {
   "cell_type": "code",
   "execution_count": null,
   "metadata": {
    "collapsed": false
   },
   "outputs": [],
   "source": [
    "result_set = session.execute(\"SELECT * FROM company\")"
   ]
  },
  {
   "cell_type": "code",
   "execution_count": null,
   "metadata": {
    "collapsed": false
   },
   "outputs": [],
   "source": [
    "result_set.current_rows"
   ]
  },
  {
   "cell_type": "code",
   "execution_count": null,
   "metadata": {
    "collapsed": true
   },
   "outputs": [],
   "source": [
    "def safe_int(str_val):\n",
    "    try:\n",
    "        if str_val == '':\n",
    "            return(0)\n",
    "        else:\n",
    "            return(int(str_val))\n",
    "    except:\n",
    "        return(0)"
   ]
  },
  {
   "cell_type": "code",
   "execution_count": null,
   "metadata": {
    "collapsed": false
   },
   "outputs": [],
   "source": [
    "with open('indicators_by_company.csv') as f:\n",
    "    # the first line is a list of column names and can be ignored.\n",
    "    _ = f.readline()\n",
    "    for indicator in f:\n",
    "        ind_list = indicator.strip().split(\",\")\n",
    "        session.execute(\n",
    "         \"\"\"\n",
    "        INSERT INTO indicator_by_company (company_id, indicator_id, yr_2010, yr_2011, yr_2012, yr_2013, yr_2014, yr_2015, yr_2016)\n",
    "        VALUES (%s, %s, %s, %s, %s, %s, %s, %s, %s)\n",
    "        \"\"\",\n",
    "        (ind_list[0],ind_list[1],safe_int(ind_list[2]),safe_int(ind_list[3]),safe_int(ind_list[4]),safe_int(ind_list[5]),safe_int(ind_list[6]),safe_int(ind_list[7]),safe_int(ind_list[8]))\n",
    "        )"
   ]
  }
 ],
 "metadata": {
  "anaconda-cloud": {},
  "kernelspec": {
   "name": "python3",
   "display_name": "Python 3.8.3 64-bit",
   "metadata": {
    "interpreter": {
     "hash": "a72d64215a99d33804d317f41cc3b74c5f6e76020839550e617ab1984a546cd1"
    }
   }
  },
  "language_info": {
   "codemirror_mode": {
    "name": "ipython",
    "version": 2
   },
   "file_extension": ".py",
   "mimetype": "text/x-python",
   "name": "python",
   "nbconvert_exporter": "python",
   "pygments_lexer": "ipython2",
   "version": "3.8.3-final"
  }
 },
 "nbformat": 4,
 "nbformat_minor": 1
}