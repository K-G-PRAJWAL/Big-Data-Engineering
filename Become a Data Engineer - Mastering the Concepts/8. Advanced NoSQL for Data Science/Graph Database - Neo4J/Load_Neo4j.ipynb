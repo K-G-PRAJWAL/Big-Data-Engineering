{
 "cells": [
  {
   "cell_type": "code",
   "execution_count": 1,
   "metadata": {
    "collapsed": true
   },
   "outputs": [],
   "source": [
    "from py2neo import Graph, Node, Relationship, authenticate"
   ]
  },
  {
   "cell_type": "code",
   "execution_count": 2,
   "metadata": {
    "collapsed": true
   },
   "outputs": [],
   "source": [
    "authenticate(\"localhost\", \"neo4j\", \"neo4j_train\")"
   ]
  },
  {
   "cell_type": "code",
   "execution_count": 3,
   "metadata": {
    "collapsed": true
   },
   "outputs": [],
   "source": [
    "g = Graph(host='localhost')"
   ]
  },
  {
   "cell_type": "code",
   "execution_count": 4,
   "metadata": {
    "collapsed": false
   },
   "outputs": [
    {
     "data": {
      "text/plain": [
       "py2neo.database.Graph"
      ]
     },
     "execution_count": 4,
     "metadata": {},
     "output_type": "execute_result"
    }
   ],
   "source": [
    "type(g)"
   ]
  },
  {
   "cell_type": "code",
   "execution_count": 5,
   "metadata": {
    "collapsed": false
   },
   "outputs": [
    {
     "name": "stdout",
     "output_type": "stream",
     "text": [
      "\u001b[31medge_distance.txt\u001b[m\u001b[m \u001b[31mnode_city.txt\u001b[m\u001b[m\r\n"
     ]
    }
   ],
   "source": [
    "!ls *.txt"
   ]
  },
  {
   "cell_type": "code",
   "execution_count": 6,
   "metadata": {
    "collapsed": false
   },
   "outputs": [
    {
     "name": "stdout",
     "output_type": "stream",
     "text": [
      "New_York, 8491079\r\n",
      "Los_Angeles, 3928864\r\n",
      "Chicago, 2722389\r\n",
      "Houston, 2239558\r\n",
      "Philadelphia, 1560297\r\n",
      "Phoenix, 1537058\r\n",
      "San_Antonio, 1436697\r\n",
      "San_Diego, 1381069\r\n",
      "Dallas, 1281047\r\n",
      "San_Jose, 1015785\r\n"
     ]
    }
   ],
   "source": [
    "!head node_city.txt"
   ]
  },
  {
   "cell_type": "code",
   "execution_count": 7,
   "metadata": {
    "collapsed": true
   },
   "outputs": [],
   "source": [
    "tx = g.begin()\n",
    "with open('node_city.txt') as f_in:\n",
    "    for line in f_in:\n",
    "        city_list = line.rstrip().split(',')\n",
    "        city = Node(\"City\",name=city_list[0], population=city_list[1])\n",
    "        tx.create(city)\n",
    "tx.commit()"
   ]
  },
  {
   "cell_type": "code",
   "execution_count": 8,
   "metadata": {
    "collapsed": false
   },
   "outputs": [
    {
     "data": {
      "text/plain": [
       "[{u'c.name': u'New_York', u'c.population': 8491079},\n",
       " {u'c.name': u'Los_Angeles', u'c.population': 3928864},\n",
       " {u'c.name': u'Chicago', u'c.population': 2722389},\n",
       " {u'c.name': u'Houston', u'c.population': 2239558},\n",
       " {u'c.name': u'Philadelphia', u'c.population': 1560297},\n",
       " {u'c.name': u'Phoenix', u'c.population': 1537058},\n",
       " {u'c.name': u'San_Antonio', u'c.population': 1436697},\n",
       " {u'c.name': u'San_Diego', u'c.population': 1381069},\n",
       " {u'c.name': u'Dallas', u'c.population': 1281047},\n",
       " {u'c.name': u'San_Jose', u'c.population': 1015785},\n",
       " {u'c.name': u'Austin', u'c.population': 912791},\n",
       " {u'c.name': u'Jacksonville', u'c.population': 853382},\n",
       " {u'c.name': u'San_Francisco', u'c.population': 852469},\n",
       " {u'c.name': u'Indianapolis', u'c.population': 848788},\n",
       " {u'c.name': u'Columbus', u'c.population': 835957},\n",
       " {u'c.name': u'Fort_Worth', u'c.population': 812238},\n",
       " {u'c.name': u'Charlotte', u'c.population': 809958},\n",
       " {u'c.name': u'Detroit', u'c.population': 680250},\n",
       " {u'c.name': u'Seattle', u'c.population': 66342},\n",
       " {u'c.name': u'Denver', u'c.population': 663862},\n",
       " {u'c.name': u'New_York', u'c.population': u' 8491079'},\n",
       " {u'c.name': u'Los_Angeles', u'c.population': u' 3928864'},\n",
       " {u'c.name': u'Chicago', u'c.population': u' 2722389'},\n",
       " {u'c.name': u'Houston', u'c.population': u' 2239558'},\n",
       " {u'c.name': u'Philadelphia', u'c.population': u' 1560297'},\n",
       " {u'c.name': u'Phoenix', u'c.population': u' 1537058'},\n",
       " {u'c.name': u'San_Antonio', u'c.population': u' 1436697'},\n",
       " {u'c.name': u'San_Diego', u'c.population': u' 1381069'},\n",
       " {u'c.name': u'Dallas', u'c.population': u' 1281047'},\n",
       " {u'c.name': u'San_Jose', u'c.population': u' 1015785'},\n",
       " {u'c.name': u'Austin', u'c.population': u' 912791'},\n",
       " {u'c.name': u'Jacksonville', u'c.population': u' 853382'},\n",
       " {u'c.name': u'San_Francisco', u'c.population': u' 852469'},\n",
       " {u'c.name': u'Indianapolis', u'c.population': u' 848788'},\n",
       " {u'c.name': u'Columbus', u'c.population': u' 835957'},\n",
       " {u'c.name': u'Fort_Worth', u'c.population': u' 812238'},\n",
       " {u'c.name': u'Charlotte', u'c.population': u' 809958'},\n",
       " {u'c.name': u'Detroit', u'c.population': u' 680250'},\n",
       " {u'c.name': u'Seattle', u'c.population': u' 66342'},\n",
       " {u'c.name': u'Denver', u'c.population': u' 663862'}]"
      ]
     },
     "execution_count": 8,
     "metadata": {},
     "output_type": "execute_result"
    }
   ],
   "source": [
    "g.data(\"MATCH (c:City) RETURN c.name, c.population\")"
   ]
  },
  {
   "cell_type": "code",
   "execution_count": 9,
   "metadata": {
    "collapsed": false
   },
   "outputs": [
    {
     "data": {
      "text/plain": [
       "[{u'c.name': u'New_York', u'c.population': 8491079},\n",
       " {u'c.name': u'Los_Angeles', u'c.population': 3928864},\n",
       " {u'c.name': u'Chicago', u'c.population': 2722389},\n",
       " {u'c.name': u'Houston', u'c.population': 2239558},\n",
       " {u'c.name': u'Philadelphia', u'c.population': 1560297},\n",
       " {u'c.name': u'Phoenix', u'c.population': 1537058},\n",
       " {u'c.name': u'San_Antonio', u'c.population': 1436697},\n",
       " {u'c.name': u'San_Diego', u'c.population': 1381069},\n",
       " {u'c.name': u'Dallas', u'c.population': 1281047},\n",
       " {u'c.name': u'San_Jose', u'c.population': 1015785}]"
      ]
     },
     "execution_count": 9,
     "metadata": {},
     "output_type": "execute_result"
    }
   ],
   "source": [
    "g.data(\"MATCH (c:City) RETURN c.name, c.population LIMIT 10\")"
   ]
  },
  {
   "cell_type": "code",
   "execution_count": 10,
   "metadata": {
    "collapsed": true
   },
   "outputs": [],
   "source": [
    "result_set = g.node_selector.select(\"City\")"
   ]
  },
  {
   "cell_type": "code",
   "execution_count": 11,
   "metadata": {
    "collapsed": false
   },
   "outputs": [
    {
     "data": {
      "text/plain": [
       "py2neo.database.selection.NodeSelection"
      ]
     },
     "execution_count": 11,
     "metadata": {},
     "output_type": "execute_result"
    }
   ],
   "source": [
    "type(result_set)"
   ]
  },
  {
   "cell_type": "code",
   "execution_count": 12,
   "metadata": {
    "collapsed": false
   },
   "outputs": [
    {
     "data": {
      "text/plain": [
       "(f6273ab:City {name:\"New_York\",population:8491079})"
      ]
     },
     "execution_count": 12,
     "metadata": {},
     "output_type": "execute_result"
    }
   ],
   "source": [
    "result_set.first()"
   ]
  },
  {
   "cell_type": "code",
   "execution_count": 13,
   "metadata": {
    "collapsed": true
   },
   "outputs": [],
   "source": [
    "LA = result_set.where(name=\"Los_Angeles\")"
   ]
  },
  {
   "cell_type": "code",
   "execution_count": 14,
   "metadata": {
    "collapsed": false
   },
   "outputs": [
    {
     "data": {
      "text/plain": [
       "py2neo.database.selection.NodeSelection"
      ]
     },
     "execution_count": 14,
     "metadata": {},
     "output_type": "execute_result"
    }
   ],
   "source": [
    "type(LA)"
   ]
  },
  {
   "cell_type": "code",
   "execution_count": 15,
   "metadata": {
    "collapsed": false
   },
   "outputs": [
    {
     "data": {
      "text/plain": [
       "(b56bd7c:City {name:\"Los_Angeles\",population:3928864})"
      ]
     },
     "execution_count": 15,
     "metadata": {},
     "output_type": "execute_result"
    }
   ],
   "source": [
    "LA.first()"
   ]
  },
  {
   "cell_type": "code",
   "execution_count": 17,
   "metadata": {
    "collapsed": false
   },
   "outputs": [
    {
     "name": "stdout",
     "output_type": "stream",
     "text": [
      "(f6273ab:City {name:\"New_York\",population:8491079})\n",
      "(b56bd7c:City {name:\"Los_Angeles\",population:3928864})\n",
      "(a2a3157:City {name:\"Chicago\",population:2722389})\n",
      "(baf1e9f:City {name:\"Houston\",population:2239558})\n",
      "(b4826a2:City {name:\"Philadelphia\",population:1560297})\n",
      "(eff19f8:City {name:\"Phoenix\",population:1537058})\n",
      "(c14fbab:City {name:\"San_Antonio\",population:1436697})\n",
      "(d2495e7:City {name:\"San_Diego\",population:1381069})\n",
      "(a9c4f52:City {name:\"Dallas\",population:1281047})\n",
      "(bd51ebb:City {name:\"San_Jose\",population:1015785})\n",
      "(f4d6282:City {name:\"Austin\",population:912791})\n",
      "(fad8c11:City {name:\"Jacksonville\",population:853382})\n",
      "(a864834:City {name:\"San_Francisco\",population:852469})\n",
      "(e701086:City {name:\"Indianapolis\",population:848788})\n",
      "(bb883a5:City {name:\"Columbus\",population:835957})\n",
      "(e64db45:City {name:\"Fort_Worth\",population:812238})\n",
      "(fd41b55:City {name:\"Charlotte\",population:809958})\n",
      "(a40bc67:City {name:\"Detroit\",population:680250})\n",
      "(b5894f2:City {name:\"Seattle\",population:66342})\n",
      "(ce89947:City {name:\"Denver\",population:663862})\n",
      "(ec805f9:City {name:\"New_York\",population:\" 8491079\"})\n",
      "(eb5f584:City {name:\"Los_Angeles\",population:\" 3928864\"})\n",
      "(ca76dcd:City {name:\"Chicago\",population:\" 2722389\"})\n",
      "(c295b60:City {name:\"Houston\",population:\" 2239558\"})\n",
      "(philadelphia:City {name:\"Philadelphia\",population:\" 1560297\"})\n",
      "(phoenix:City {name:\"Phoenix\",population:\" 1537058\"})\n",
      "(san_antonio:City {name:\"San_Antonio\",population:\" 1436697\"})\n",
      "(san_diego:City {name:\"San_Diego\",population:\" 1381069\"})\n",
      "(dallas:City {name:\"Dallas\",population:\" 1281047\"})\n",
      "(san_jose:City {name:\"San_Jose\",population:\" 1015785\"})\n",
      "(austin:City {name:\"Austin\",population:\" 912791\"})\n",
      "(jacksonville:City {name:\"Jacksonville\",population:\" 853382\"})\n",
      "(san_francisco:City {name:\"San_Francisco\",population:\" 852469\"})\n",
      "(indianapolis:City {name:\"Indianapolis\",population:\" 848788\"})\n",
      "(columbus:City {name:\"Columbus\",population:\" 835957\"})\n",
      "(fort_worth:City {name:\"Fort_Worth\",population:\" 812238\"})\n",
      "(charlotte:City {name:\"Charlotte\",population:\" 809958\"})\n",
      "(detroit:City {name:\"Detroit\",population:\" 680250\"})\n",
      "(seattle:City {name:\"Seattle\",population:\" 66342\"})\n",
      "(denver:City {name:\"Denver\",population:\" 663862\"})\n"
     ]
    }
   ],
   "source": [
    "for r in result_set:\n",
    "    print r"
   ]
  },
  {
   "cell_type": "markdown",
   "metadata": {},
   "source": [
    "*New Steps Begin Here*"
   ]
  },
  {
   "cell_type": "code",
   "execution_count": 24,
   "metadata": {
    "collapsed": false
   },
   "outputs": [
    {
     "name": "stdout",
     "output_type": "stream",
     "text": [
      "\u001b[31medge_distance.txt\u001b[m\u001b[m \u001b[31mnode_city.txt\u001b[m\u001b[m\r\n"
     ]
    }
   ],
   "source": [
    "!ls *.txt"
   ]
  },
  {
   "cell_type": "code",
   "execution_count": 25,
   "metadata": {
    "collapsed": false
   },
   "outputs": [
    {
     "name": "stdout",
     "output_type": "stream",
     "text": [
      "New_York,Los_Angeles, 2451\r\n",
      "New_York,Chicago, 733\r\n",
      "New_York,Philadelphia, 95\r\n",
      "New_York,Dallas, 1373\r\n",
      "New_York,San_Francisco, 2572\r\n",
      "Los_Angeles,San_Francisco, 382\r\n",
      "Los_Angeles,Chicago, 1756\r\n",
      "Los_Angeles,Austin, 1377\r\n",
      "Los_Angeles,San_Jose, 306\r\n",
      "Los_Angeles,Charlotte, 2125\r\n"
     ]
    }
   ],
   "source": [
    "!head edge_distance.txt"
   ]
  },
  {
   "cell_type": "code",
   "execution_count": 29,
   "metadata": {
    "collapsed": true
   },
   "outputs": [],
   "source": [
    "tx = g.begin()\n",
    "with open('edge_distance.txt') as f_in:\n",
    "    for line in f_in:\n",
    "        edge_list = line.rstrip().split(',')\n",
    "        city1_name = edge_list[0]\n",
    "        city2_name = edge_list[1]\n",
    "        city1_node = result_set.where(name=city1_name)\n",
    "        city2_node = result_set.where(name=city2_name)\n",
    "        city_pair = Relationship(city1_node, \"FLIGHT_BETWEEN\", city2_node)\n",
    "        city_pair[\"distance\"] = edge_list[2]\n",
    "        tx.create(city_pair)\n",
    "tx.commit()"
   ]
  },
  {
   "cell_type": "code",
   "execution_count": 30,
   "metadata": {
    "collapsed": false
   },
   "outputs": [
    {
     "data": {
      "text/plain": [
       "frozenset({u'FLIGHT_BETWEEN'})"
      ]
     },
     "execution_count": 30,
     "metadata": {},
     "output_type": "execute_result"
    }
   ],
   "source": [
    "g.relationship_types"
   ]
  },
  {
   "cell_type": "code",
   "execution_count": 31,
   "metadata": {
    "collapsed": true
   },
   "outputs": [],
   "source": [
    "import pandas as pd"
   ]
  },
  {
   "cell_type": "code",
   "execution_count": 32,
   "metadata": {
    "collapsed": true
   },
   "outputs": [],
   "source": [
    "flight_list = list()"
   ]
  },
  {
   "cell_type": "code",
   "execution_count": 33,
   "metadata": {
    "collapsed": true
   },
   "outputs": [],
   "source": [
    "for cities in g.match(rel_type=\"FLIGHT_BETWEEN\"):\n",
    "    city1_name = cities.nodes()[0]['name']\n",
    "    city2_name = cities.nodes()[1]['name']\n",
    "    distance = cities['distance']\n",
    "    flight_list.append([city1_name, city2_name, distance])"
   ]
  },
  {
   "cell_type": "code",
   "execution_count": 34,
   "metadata": {
    "collapsed": false
   },
   "outputs": [
    {
     "data": {
      "text/plain": [
       "list"
      ]
     },
     "execution_count": 34,
     "metadata": {},
     "output_type": "execute_result"
    }
   ],
   "source": [
    "type(flight_list)"
   ]
  },
  {
   "cell_type": "code",
   "execution_count": 35,
   "metadata": {
    "collapsed": false
   },
   "outputs": [
    {
     "data": {
      "text/plain": [
       "[u'New_York', u'Los_Angeles', u' 2451']"
      ]
     },
     "execution_count": 35,
     "metadata": {},
     "output_type": "execute_result"
    }
   ],
   "source": [
    "flight_list[0]"
   ]
  },
  {
   "cell_type": "code",
   "execution_count": 36,
   "metadata": {
    "collapsed": true
   },
   "outputs": [],
   "source": [
    "flight_df = pd.DataFrame(flight_list)"
   ]
  },
  {
   "cell_type": "code",
   "execution_count": 37,
   "metadata": {
    "collapsed": false
   },
   "outputs": [
    {
     "data": {
      "text/html": [
       "<div>\n",
       "<table border=\"1\" class=\"dataframe\">\n",
       "  <thead>\n",
       "    <tr style=\"text-align: right;\">\n",
       "      <th></th>\n",
       "      <th>0</th>\n",
       "      <th>1</th>\n",
       "      <th>2</th>\n",
       "    </tr>\n",
       "  </thead>\n",
       "  <tbody>\n",
       "    <tr>\n",
       "      <th>0</th>\n",
       "      <td>New_York</td>\n",
       "      <td>Los_Angeles</td>\n",
       "      <td>2451</td>\n",
       "    </tr>\n",
       "    <tr>\n",
       "      <th>1</th>\n",
       "      <td>New_York</td>\n",
       "      <td>Chicago</td>\n",
       "      <td>733</td>\n",
       "    </tr>\n",
       "    <tr>\n",
       "      <th>2</th>\n",
       "      <td>New_York</td>\n",
       "      <td>Philadelphia</td>\n",
       "      <td>95</td>\n",
       "    </tr>\n",
       "    <tr>\n",
       "      <th>3</th>\n",
       "      <td>New_York</td>\n",
       "      <td>Dallas</td>\n",
       "      <td>1373</td>\n",
       "    </tr>\n",
       "    <tr>\n",
       "      <th>4</th>\n",
       "      <td>New_York</td>\n",
       "      <td>San_Francisco</td>\n",
       "      <td>2572</td>\n",
       "    </tr>\n",
       "    <tr>\n",
       "      <th>5</th>\n",
       "      <td>Los_Angeles</td>\n",
       "      <td>San_Francisco</td>\n",
       "      <td>382</td>\n",
       "    </tr>\n",
       "    <tr>\n",
       "      <th>6</th>\n",
       "      <td>Los_Angeles</td>\n",
       "      <td>Chicago</td>\n",
       "      <td>1756</td>\n",
       "    </tr>\n",
       "    <tr>\n",
       "      <th>7</th>\n",
       "      <td>Los_Angeles</td>\n",
       "      <td>Austin</td>\n",
       "      <td>1377</td>\n",
       "    </tr>\n",
       "    <tr>\n",
       "      <th>8</th>\n",
       "      <td>Los_Angeles</td>\n",
       "      <td>San_Jose</td>\n",
       "      <td>306</td>\n",
       "    </tr>\n",
       "    <tr>\n",
       "      <th>9</th>\n",
       "      <td>Los_Angeles</td>\n",
       "      <td>Charlotte</td>\n",
       "      <td>2125</td>\n",
       "    </tr>\n",
       "    <tr>\n",
       "      <th>10</th>\n",
       "      <td>Chicago</td>\n",
       "      <td>Houston</td>\n",
       "      <td>925</td>\n",
       "    </tr>\n",
       "    <tr>\n",
       "      <th>11</th>\n",
       "      <td>Chicago</td>\n",
       "      <td>Phoenix</td>\n",
       "      <td>1753</td>\n",
       "    </tr>\n",
       "    <tr>\n",
       "      <th>12</th>\n",
       "      <td>Chicago</td>\n",
       "      <td>San_Antonio</td>\n",
       "      <td>1192</td>\n",
       "    </tr>\n",
       "    <tr>\n",
       "      <th>13</th>\n",
       "      <td>Chicago</td>\n",
       "      <td>Jacksonville</td>\n",
       "      <td>1063</td>\n",
       "    </tr>\n",
       "    <tr>\n",
       "      <th>14</th>\n",
       "      <td>Chicago</td>\n",
       "      <td>San_Francisco</td>\n",
       "      <td>1850</td>\n",
       "    </tr>\n",
       "    <tr>\n",
       "      <th>15</th>\n",
       "      <td>Houston</td>\n",
       "      <td>Phoenix</td>\n",
       "      <td>1174</td>\n",
       "    </tr>\n",
       "    <tr>\n",
       "      <th>16</th>\n",
       "      <td>Houston</td>\n",
       "      <td>San_Antonio</td>\n",
       "      <td>197</td>\n",
       "    </tr>\n",
       "    <tr>\n",
       "      <th>17</th>\n",
       "      <td>Houston</td>\n",
       "      <td>Fort_Worth</td>\n",
       "      <td>262</td>\n",
       "    </tr>\n",
       "    <tr>\n",
       "      <th>18</th>\n",
       "      <td>Philadelphia</td>\n",
       "      <td>Dallas</td>\n",
       "      <td>1467</td>\n",
       "    </tr>\n",
       "    <tr>\n",
       "      <th>19</th>\n",
       "      <td>Philadelphia</td>\n",
       "      <td>Detroit</td>\n",
       "      <td>453</td>\n",
       "    </tr>\n",
       "    <tr>\n",
       "      <th>20</th>\n",
       "      <td>Philadelphia</td>\n",
       "      <td>Denver</td>\n",
       "      <td>1557</td>\n",
       "    </tr>\n",
       "    <tr>\n",
       "      <th>21</th>\n",
       "      <td>Phoenix</td>\n",
       "      <td>San_Antonio</td>\n",
       "      <td>1742</td>\n",
       "    </tr>\n",
       "    <tr>\n",
       "      <th>22</th>\n",
       "      <td>Phoenix</td>\n",
       "      <td>Dallas</td>\n",
       "      <td>1064</td>\n",
       "    </tr>\n",
       "    <tr>\n",
       "      <th>23</th>\n",
       "      <td>Phoenix</td>\n",
       "      <td>San_Francisco</td>\n",
       "      <td>651</td>\n",
       "    </tr>\n",
       "    <tr>\n",
       "      <th>24</th>\n",
       "      <td>San_Antonio</td>\n",
       "      <td>Austin</td>\n",
       "      <td>74</td>\n",
       "    </tr>\n",
       "    <tr>\n",
       "      <th>25</th>\n",
       "      <td>San_Antonio</td>\n",
       "      <td>Indianapolis</td>\n",
       "      <td>1172</td>\n",
       "    </tr>\n",
       "    <tr>\n",
       "      <th>26</th>\n",
       "      <td>San_Antonio</td>\n",
       "      <td>Fort_Worth</td>\n",
       "      <td>268</td>\n",
       "    </tr>\n",
       "    <tr>\n",
       "      <th>27</th>\n",
       "      <td>San_Diego</td>\n",
       "      <td>Dallas</td>\n",
       "      <td>1358</td>\n",
       "    </tr>\n",
       "    <tr>\n",
       "      <th>28</th>\n",
       "      <td>San_Diego</td>\n",
       "      <td>San_Jose</td>\n",
       "      <td>414</td>\n",
       "    </tr>\n",
       "    <tr>\n",
       "      <th>29</th>\n",
       "      <td>Dallas</td>\n",
       "      <td>San_Jose</td>\n",
       "      <td>1690</td>\n",
       "    </tr>\n",
       "    <tr>\n",
       "      <th>30</th>\n",
       "      <td>Dallas</td>\n",
       "      <td>Austin</td>\n",
       "      <td>191</td>\n",
       "    </tr>\n",
       "    <tr>\n",
       "      <th>31</th>\n",
       "      <td>Dallas</td>\n",
       "      <td>San_Francisco</td>\n",
       "      <td>1484</td>\n",
       "    </tr>\n",
       "    <tr>\n",
       "      <th>32</th>\n",
       "      <td>Dallas</td>\n",
       "      <td>Detroit</td>\n",
       "      <td>1187</td>\n",
       "    </tr>\n",
       "    <tr>\n",
       "      <th>33</th>\n",
       "      <td>Detroit</td>\n",
       "      <td>Austin</td>\n",
       "      <td>1382</td>\n",
       "    </tr>\n",
       "    <tr>\n",
       "      <th>34</th>\n",
       "      <td>Detroit</td>\n",
       "      <td>Fort_Worth</td>\n",
       "      <td>1218</td>\n",
       "    </tr>\n",
       "    <tr>\n",
       "      <th>35</th>\n",
       "      <td>San_Jose</td>\n",
       "      <td>Jacksonville</td>\n",
       "      <td>2755</td>\n",
       "    </tr>\n",
       "    <tr>\n",
       "      <th>36</th>\n",
       "      <td>Austin</td>\n",
       "      <td>San_Francisco</td>\n",
       "      <td>1758</td>\n",
       "    </tr>\n",
       "    <tr>\n",
       "      <th>37</th>\n",
       "      <td>Austin</td>\n",
       "      <td>Indianapolis</td>\n",
       "      <td>1094</td>\n",
       "    </tr>\n",
       "    <tr>\n",
       "      <th>38</th>\n",
       "      <td>Jacksonville</td>\n",
       "      <td>Indianapolis</td>\n",
       "      <td>879</td>\n",
       "    </tr>\n",
       "    <tr>\n",
       "      <th>39</th>\n",
       "      <td>San_Francisco</td>\n",
       "      <td>Columbus</td>\n",
       "      <td>2451</td>\n",
       "    </tr>\n",
       "    <tr>\n",
       "      <th>40</th>\n",
       "      <td>San_Francisco</td>\n",
       "      <td>Detroit</td>\n",
       "      <td>2090</td>\n",
       "    </tr>\n",
       "    <tr>\n",
       "      <th>41</th>\n",
       "      <td>Indianapolis</td>\n",
       "      <td>Charlotte</td>\n",
       "      <td>575</td>\n",
       "    </tr>\n",
       "    <tr>\n",
       "      <th>42</th>\n",
       "      <td>Indianapolis</td>\n",
       "      <td>Seattle</td>\n",
       "      <td>2219</td>\n",
       "    </tr>\n",
       "    <tr>\n",
       "      <th>43</th>\n",
       "      <td>Columbus</td>\n",
       "      <td>Fort_Worth</td>\n",
       "      <td>1071</td>\n",
       "    </tr>\n",
       "    <tr>\n",
       "      <th>44</th>\n",
       "      <td>Columbus</td>\n",
       "      <td>Denver</td>\n",
       "      <td>1269</td>\n",
       "    </tr>\n",
       "    <tr>\n",
       "      <th>45</th>\n",
       "      <td>Fort_Worth</td>\n",
       "      <td>Charlotte</td>\n",
       "      <td>1060</td>\n",
       "    </tr>\n",
       "    <tr>\n",
       "      <th>46</th>\n",
       "      <td>Fort_Worth</td>\n",
       "      <td>Seattle</td>\n",
       "      <td>2082</td>\n",
       "    </tr>\n",
       "    <tr>\n",
       "      <th>47</th>\n",
       "      <td>Charlotte</td>\n",
       "      <td>Detroit</td>\n",
       "      <td>615</td>\n",
       "    </tr>\n",
       "    <tr>\n",
       "      <th>48</th>\n",
       "      <td>Charlotte</td>\n",
       "      <td>Seattle</td>\n",
       "      <td>2279</td>\n",
       "    </tr>\n",
       "    <tr>\n",
       "      <th>49</th>\n",
       "      <td>Detroit</td>\n",
       "      <td>Seattle</td>\n",
       "      <td>1936</td>\n",
       "    </tr>\n",
       "    <tr>\n",
       "      <th>50</th>\n",
       "      <td>Seattle</td>\n",
       "      <td>Denver</td>\n",
       "      <td>1316</td>\n",
       "    </tr>\n",
       "  </tbody>\n",
       "</table>\n",
       "</div>"
      ],
      "text/plain": [
       "                0              1      2\n",
       "0        New_York    Los_Angeles   2451\n",
       "1        New_York        Chicago    733\n",
       "2        New_York   Philadelphia     95\n",
       "3        New_York         Dallas   1373\n",
       "4        New_York  San_Francisco   2572\n",
       "5     Los_Angeles  San_Francisco    382\n",
       "6     Los_Angeles        Chicago   1756\n",
       "7     Los_Angeles         Austin   1377\n",
       "8     Los_Angeles       San_Jose    306\n",
       "9     Los_Angeles      Charlotte   2125\n",
       "10        Chicago        Houston    925\n",
       "11        Chicago        Phoenix   1753\n",
       "12        Chicago    San_Antonio   1192\n",
       "13        Chicago   Jacksonville   1063\n",
       "14        Chicago  San_Francisco   1850\n",
       "15        Houston        Phoenix   1174\n",
       "16        Houston    San_Antonio    197\n",
       "17        Houston     Fort_Worth    262\n",
       "18   Philadelphia         Dallas   1467\n",
       "19   Philadelphia        Detroit    453\n",
       "20   Philadelphia         Denver   1557\n",
       "21        Phoenix    San_Antonio   1742\n",
       "22        Phoenix         Dallas   1064\n",
       "23        Phoenix  San_Francisco    651\n",
       "24    San_Antonio         Austin     74\n",
       "25    San_Antonio   Indianapolis   1172\n",
       "26    San_Antonio     Fort_Worth    268\n",
       "27      San_Diego         Dallas   1358\n",
       "28      San_Diego       San_Jose    414\n",
       "29         Dallas       San_Jose   1690\n",
       "30         Dallas         Austin    191\n",
       "31         Dallas  San_Francisco   1484\n",
       "32         Dallas        Detroit   1187\n",
       "33        Detroit         Austin   1382\n",
       "34        Detroit     Fort_Worth   1218\n",
       "35       San_Jose   Jacksonville   2755\n",
       "36         Austin  San_Francisco   1758\n",
       "37         Austin   Indianapolis   1094\n",
       "38   Jacksonville   Indianapolis    879\n",
       "39  San_Francisco       Columbus   2451\n",
       "40  San_Francisco        Detroit   2090\n",
       "41   Indianapolis      Charlotte    575\n",
       "42   Indianapolis        Seattle   2219\n",
       "43       Columbus     Fort_Worth   1071\n",
       "44       Columbus         Denver   1269\n",
       "45     Fort_Worth      Charlotte   1060\n",
       "46     Fort_Worth        Seattle   2082\n",
       "47      Charlotte        Detroit    615\n",
       "48      Charlotte        Seattle   2279\n",
       "49        Detroit        Seattle   1936\n",
       "50        Seattle         Denver   1316"
      ]
     },
     "execution_count": 37,
     "metadata": {},
     "output_type": "execute_result"
    }
   ],
   "source": [
    "flight_df"
   ]
  }
 ],
 "metadata": {
  "anaconda-cloud": {},
  "kernelspec": {
   "display_name": "Python [conda root]",
   "language": "python",
   "name": "conda-root-py"
  },
  "language_info": {
   "codemirror_mode": {
    "name": "ipython",
    "version": 2
   },
   "file_extension": ".py",
   "mimetype": "text/x-python",
   "name": "python",
   "nbconvert_exporter": "python",
   "pygments_lexer": "ipython2",
   "version": "2.7.12"
  }
 },
 "nbformat": 4,
 "nbformat_minor": 1
}